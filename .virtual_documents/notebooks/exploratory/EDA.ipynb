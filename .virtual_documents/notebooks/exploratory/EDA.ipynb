


import pandas as pd
import seaborn as sns
import matplotlib.pyplot as plt
import numpy as np

# Load the dataset from Kaggle's downloaded CSV
df = pd.read_csv("../../data/raw/train.csv")
df = df[['comment_text', 'toxic']]
df.dropna(inplace=True)
df['label'] = df['toxic']






sns.countplot(data=df, x='label')
plt.title('Toxic (1) vs Non-Toxic (0) Distribution')
plt.xlabel('Label')
plt.ylabel('Count')
plt.show()





df['length'] = df['text'].apply(lambda x: len(x.split()))
sns.histplot(data=df, x='length', bins=50, kde=True)
plt.title('Comment Length Distribution')
plt.xlabel('Number of Words')
plt.ylabel('Frequency')
plt.xlim(0, 100)
plt.show()





print("\nSample Toxic Comments:")
print(df[df['label'] == 1]['text'].sample(5, random_state=42).values)

print("\nSample Non-Toxic Comments:")
print(df[df['label'] == 0]['text'].sample(5, random_state=42).values)



