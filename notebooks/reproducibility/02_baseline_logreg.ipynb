{
 "cells": [
  {
   "cell_type": "markdown",
   "id": "0b971226-3947-4561-b266-fbd557a54373",
   "metadata": {},
   "source": [
    "Setup & Imports"
   ]
  },
  {
   "cell_type": "code",
   "execution_count": 6,
   "id": "e14e1371-b64d-4e67-8c76-2fb08bf9d6e4",
   "metadata": {},
   "outputs": [],
   "source": [
    "import os, sys\n",
    "import pandas as pd\n",
    "import pickle\n",
    "\n",
    "from sklearn.pipeline import Pipeline\n",
    "from sklearn.linear_model import LogisticRegression\n",
    "from sklearn.metrics import classification_report, confusion_matrix\n",
    "import seaborn as sns\n",
    "import matplotlib.pyplot as plt\n",
    "\n",
    "# Ensure repo root is on the path\n",
    "repo_root = os.path.abspath(os.path.join(os.getcwd(), '..', '..'))\n",
    "if repo_root not in sys.path:\n",
    "    sys.path.insert(0, repo_root)\n",
    "\n",
    "# Paths to processed data & vectorizer\n",
    "processed_dir = os.path.join(repo_root, 'data', 'processed')\n",
    "tfidf_path    = os.path.join(processed_dir, 'tfidf.pkl')\n",
    "train_csv     = os.path.join(processed_dir, 'train.csv')\n",
    "val_csv       = os.path.join(processed_dir, 'val.csv')\n",
    "\n",
    "# Labels list\n",
    "LABELS = ['toxic','severe_toxic','obscene','threat','insult','identity_hate']\n"
   ]
  },
  {
   "cell_type": "markdown",
   "id": "f5e6870a-cd95-4574-a95f-1fa242b1eccd",
   "metadata": {},
   "source": [
    "Load Data & Vectorizer"
   ]
  },
  {
   "cell_type": "code",
   "execution_count": 7,
   "id": "14b00e41-7c93-495a-b33a-b57cb6b99e1c",
   "metadata": {},
   "outputs": [
    {
     "name": "stdout",
     "output_type": "stream",
     "text": [
      "TF-IDF loaded. Vocabulary size: 10000\n"
     ]
    }
   ],
   "source": [
    "# Load train/validation splits\n",
    "train_df = pd.read_csv(train_csv)\n",
    "val_df   = pd.read_csv(val_csv)\n",
    "\n",
    "# Separate features & target for the primary 'toxic' label\n",
    "X_train, y_train = train_df['comment_text'], train_df['toxic']\n",
    "X_val,   y_val   = val_df  ['comment_text'], val_df  ['toxic']\n",
    "\n",
    "# Load the fitted TF-IDF vectorizer\n",
    "with open(tfidf_path, 'rb') as f:\n",
    "    tfidf = pickle.load(f)\n",
    "print(\"TF-IDF loaded. Vocabulary size:\", len(tfidf.vocabulary_))"
   ]
  },
  {
   "cell_type": "markdown",
   "id": "5d1cde6d-d943-4433-88e3-d38f23f24c18",
   "metadata": {},
   "source": [
    "Build & Train Pipeline"
   ]
  },
  {
   "cell_type": "code",
   "execution_count": 8,
   "id": "68d8fdd1-0425-4500-9173-98440760e1ed",
   "metadata": {},
   "outputs": [
    {
     "name": "stdout",
     "output_type": "stream",
     "text": [
      "Logistic Regression model trained.\n"
     ]
    }
   ],
   "source": [
    "# Create pipeline: TF-IDF (pre-fit) + Logistic Regression\n",
    "pipe = Pipeline([\n",
    "    ('tfidf', tfidf),\n",
    "    ('clf', LogisticRegression(\n",
    "        C=1.0,\n",
    "        max_iter=1000,\n",
    "        class_weight='balanced',\n",
    "        n_jobs=-1,\n",
    "        random_state=42\n",
    "    ))\n",
    "])\n",
    "\n",
    "# Train on the 'toxic' label\n",
    "pipe.fit(X_train, y_train)\n",
    "print(\"Logistic Regression model trained.\")\n"
   ]
  },
  {
   "cell_type": "markdown",
   "id": "0b562760-49e4-411d-8f78-c6080db8dcdf",
   "metadata": {},
   "source": [
    "Evaluate on Validation Set"
   ]
  },
  {
   "cell_type": "code",
   "execution_count": 9,
   "id": "1e3e700b-0991-470a-882f-3d0116c2f020",
   "metadata": {},
   "outputs": [
    {
     "name": "stdout",
     "output_type": "stream",
     "text": [
      "Classification Report for 'toxic':\n",
      "\n",
      "              precision    recall  f1-score   support\n",
      "\n",
      "           0     0.9839    0.9395    0.9612     28856\n",
      "           1     0.5995    0.8545    0.7047      3059\n",
      "\n",
      "    accuracy                         0.9313     31915\n",
      "   macro avg     0.7917    0.8970    0.8329     31915\n",
      "weighted avg     0.9470    0.9313    0.9366     31915\n",
      "\n"
     ]
    },
    {
     "data": {
      "image/png": "[encoded data removed]",
      "text/plain": [
       "<Figure size 500x400 with 2 Axes>"
      ]
     },
     "metadata": {},
     "output_type": "display_data"
    }
   ],
   "source": [
    "# Predict & report\n",
    "y_pred = pipe.predict(X_val)\n",
    "print(\"Classification Report for 'toxic':\\n\")\n",
    "print(classification_report(y_val, y_pred, digits=4))\n",
    "\n",
    "# Confusion matrix heatmap\n",
    "cm = confusion_matrix(y_val, y_pred)\n",
    "plt.figure(figsize=(5,4))\n",
    "sns.heatmap(cm, annot=True, fmt='d', cmap='Blues')\n",
    "plt.title(\"Confusion Matrix for 'toxic'\")\n",
    "plt.xlabel(\"Predicted\")\n",
    "plt.ylabel(\"Actual\")\n",
    "plt.show()\n"
   ]
  },
  {
   "cell_type": "markdown",
   "id": "d5960e17-9aad-485e-9594-1d70fd9b4e05",
   "metadata": {},
   "source": [
    "Save Baseline Model"
   ]
  },
  {
   "cell_type": "code",
   "execution_count": 10,
   "id": "43b7d6fb-799e-409d-b5ff-d28c3ee2b04f",
   "metadata": {},
   "outputs": [
    {
     "name": "stdout",
     "output_type": "stream",
     "text": [
      "Saved trained model to: C:\\Users\\ual-laptop\\Toxic_Bias_Audit\\experiments\\logreg\\logreg_toxic.pkl\n"
     ]
    }
   ],
   "source": [
    "# Persist the trained classifier for later use\n",
    "model_dir = os.path.join(repo_root, 'experiments', 'logreg')\n",
    "os.makedirs(model_dir, exist_ok=True)\n",
    "model_path = os.path.join(model_dir, 'logreg_toxic.pkl')\n",
    "with open(model_path, 'wb') as f:\n",
    "    pickle.dump(pipe, f)\n",
    "print(\"Saved trained model to:\", model_path)\n"
   ]
  },
  {
   "cell_type": "code",
   "execution_count": null,
   "id": "c248e7fc-8142-4acd-905d-bb15bad225f3",
   "metadata": {},
   "outputs": [],
   "source": []
  }
 ],
 "metadata": {
  "kernelspec": {
   "display_name": "Python (toxic_bias_audit)",
   "language": "python",
   "name": "toxic_bias_audit"
  },
  "language_info": {
   "codemirror_mode": {
    "name": "ipython",
    "version": 3
   },
   "file_extension": ".py",
   "mimetype": "text/x-python",
   "name": "python",
   "nbconvert_exporter": "python",
   "pygments_lexer": "ipython3",
   "version": "3.9.21"
  }
 },
 "nbformat": 4,
 "nbformat_minor": 5
}
