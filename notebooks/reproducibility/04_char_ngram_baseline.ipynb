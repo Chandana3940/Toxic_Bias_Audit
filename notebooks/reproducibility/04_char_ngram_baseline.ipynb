{
 "cells": [
  {
   "cell_type": "markdown",
   "id": "773d0572-8e0c-43df-944b-528c0e6f7d52",
   "metadata": {},
   "source": [
    "Install & Import"
   ]
  },
  {
   "cell_type": "code",
   "execution_count": 16,
   "id": "b99dce56-1aff-4417-bd8a-976a45f8a98c",
   "metadata": {},
   "outputs": [],
   "source": [
    "import os, sys\n",
    "import pandas as pd\n",
    "from sklearn.feature_extraction.text import TfidfVectorizer\n",
    "from sklearn.linear_model import LogisticRegression\n",
    "from sklearn.metrics import classification_report\n",
    "from sklearn.pipeline import Pipeline\n",
    "\n",
    "# 1. Setup paths\n",
    "repo_root = os.path.abspath(os.path.join(os.getcwd(), '..', '..'))\n",
    "if repo_root not in sys.path:\n",
    "    sys.path.insert(0, repo_root)"
   ]
  },
  {
   "cell_type": "code",
   "execution_count": 17,
   "id": "ae8da505-86ff-4d17-b248-5e8bbe298837",
   "metadata": {},
   "outputs": [],
   "source": [
    "train_csv = os.path.join(repo_root, 'data/processed/train.csv')\n",
    "val_csv   = os.path.join(repo_root, 'data/processed/val.csv')"
   ]
  },
  {
   "cell_type": "code",
   "execution_count": 18,
   "id": "5909aa40-40b8-40a1-8ffa-b6920f378dfb",
   "metadata": {},
   "outputs": [],
   "source": [
    "# 2. Load data\n",
    "train = pd.read_csv(train_csv)\n",
    "val   = pd.read_csv(val_csv)\n",
    "X_train, y_train = train['comment_text'], train['toxic']\n",
    "X_val,   y_val   = val  ['comment_text'], val  ['toxic']"
   ]
  },
  {
   "cell_type": "code",
   "execution_count": 19,
   "id": "7d594eac-6e0d-499d-b8c3-85c345e47a06",
   "metadata": {},
   "outputs": [],
   "source": [
    "# 3. Build pipeline with char-ngrams\n",
    "pipe = Pipeline([\n",
    "    ('tfidf', TfidfVectorizer(\n",
    "        lowercase=True,\n",
    "        analyzer='char_wb',\n",
    "        ngram_range=(3,5),     # trigrams to 5-grams\n",
    "        max_features=20000\n",
    "    )),\n",
    "    ('clf', LogisticRegression(\n",
    "        C=1.0,\n",
    "        max_iter=1000,\n",
    "        class_weight='balanced',\n",
    "        n_jobs=-1,\n",
    "        random_state=42\n",
    "    ))\n",
    "])"
   ]
  },
  {
   "cell_type": "code",
   "execution_count": 20,
   "id": "4a764058-2be1-4ef8-9021-77019cb3a5e7",
   "metadata": {},
   "outputs": [
    {
     "name": "stdout",
     "output_type": "stream",
     "text": [
      "Char-ngram TF-IDF + LR report:\n",
      "\n",
      "              precision    recall  f1-score   support\n",
      "\n",
      "           0     0.9867    0.9431    0.9644     28856\n",
      "           1     0.6209    0.8797    0.7280      3059\n",
      "\n",
      "    accuracy                         0.9370     31915\n",
      "   macro avg     0.8038    0.9114    0.8462     31915\n",
      "weighted avg     0.9516    0.9370    0.9417     31915\n",
      "\n"
     ]
    }
   ],
   "source": [
    "# 4. Train & evaluate\n",
    "pipe.fit(X_train, y_train)\n",
    "y_pred = pipe.predict(X_val)\n",
    "print(\"Char-ngram TF-IDF + LR report:\\n\")\n",
    "print(classification_report(y_val, y_pred, digits=4))"
   ]
  },
  {
   "cell_type": "code",
   "execution_count": null,
   "id": "fdc4450c-6dd5-4373-8310-4a0fa2d2a5a7",
   "metadata": {},
   "outputs": [],
   "source": []
  }
 ],
 "metadata": {
  "kernelspec": {
   "display_name": "Python (toxic_bias_audit)",
   "language": "python",
   "name": "toxic_bias_audit"
  },
  "language_info": {
   "codemirror_mode": {
    "name": "ipython",
    "version": 3
   },
   "file_extension": ".py",
   "mimetype": "text/x-python",
   "name": "python",
   "nbconvert_exporter": "python",
   "pygments_lexer": "ipython3",
   "version": "3.9.21"
  }
 },
 "nbformat": 4,
 "nbformat_minor": 5
}
